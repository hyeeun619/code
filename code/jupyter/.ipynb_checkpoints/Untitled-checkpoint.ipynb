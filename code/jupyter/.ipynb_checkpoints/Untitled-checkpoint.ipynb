{
 "cells": [
  {
   "cell_type": "code",
   "execution_count": 7,
   "id": "d9857666-bd11-420b-8115-5a976fe8e382",
   "metadata": {},
   "outputs": [
    {
     "data": {
      "text/plain": [
       "'hello jypyter'"
      ]
     },
     "execution_count": 7,
     "metadata": {},
     "output_type": "execute_result"
    }
   ],
   "source": [
    "message = \"hello jypyter\"\n",
    "# print(message)\n",
    "message"
   ]
  },
  {
   "cell_type": "code",
   "execution_count": 13,
   "id": "2a2fd39c-8ed4-4943-967f-2ceadecaee5f",
   "metadata": {},
   "outputs": [
    {
     "name": "stdout",
     "output_type": "stream",
     "text": [
      "라면\n",
      "콩나물\n",
      "계란\n",
      "초코파이\n"
     ]
    }
   ],
   "source": [
    "# 리스트\n",
    "cart = [\"라면\", \"콩나물\", \"계란\", \"초코파이\"]\n",
    "cart\n",
    "cart[0]\n",
    "for i in cart:\n",
    "    print(i)"
   ]
  },
  {
   "cell_type": "code",
   "execution_count": 19,
   "id": "eb340f86-59e5-4ba8-b775-f562cc308f5f",
   "metadata": {},
   "outputs": [
    {
     "name": "stdout",
     "output_type": "stream",
     "text": [
      "13\n",
      "12\n"
     ]
    }
   ],
   "source": [
    "import math\n",
    "import random\n",
    "\n",
    "v1 = math.ceil(12.56)\n",
    "print(v1)\n",
    "v2 = math.floor(12.56)\n",
    "print(v2)"
   ]
  }
 ],
 "metadata": {
  "kernelspec": {
   "display_name": "Python [conda env:base] *",
   "language": "python",
   "name": "conda-base-py"
  },
  "language_info": {
   "codemirror_mode": {
    "name": "ipython",
    "version": 3
   },
   "file_extension": ".py",
   "mimetype": "text/x-python",
   "name": "python",
   "nbconvert_exporter": "python",
   "pygments_lexer": "ipython3",
   "version": "3.12.7"
  }
 },
 "nbformat": 4,
 "nbformat_minor": 5
}
